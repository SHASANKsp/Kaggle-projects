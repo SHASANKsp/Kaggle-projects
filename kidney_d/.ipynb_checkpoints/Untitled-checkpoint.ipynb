{
 "cells": [
  {
   "cell_type": "code",
   "execution_count": 24,
   "id": "5e1ed453-b270-4818-8919-f7f9d2cf5524",
   "metadata": {},
   "outputs": [],
   "source": [
    "import pandas as pd\n",
    "import numpy as np\n",
    "import matplotlib.pyplot as plt"
   ]
  },
  {
   "cell_type": "code",
   "execution_count": 25,
   "id": "386f0876-6e03-49a4-857f-5c03e67dab9e",
   "metadata": {},
   "outputs": [],
   "source": [
    "data = pd.read_csv(\"ChronicKidneyDisease_EHRs_from_AbuDhabi.csv\")"
   ]
  },
  {
   "cell_type": "code",
   "execution_count": 31,
   "id": "8b47df1a-72c0-4c75-924c-79d67504b7d1",
   "metadata": {},
   "outputs": [],
   "source": [
    "from sklearn.preprocessing import MinMaxScaler\n",
    "\n",
    "data[['CholesterolBaseline', 'CreatinineBaseline', 'eGFRBaseline','sBPBaseline', 'dBPBaseline', 'BMIBaseline', 'TimeToEventMonths']] = scaler.fit_transform(data[['CholesterolBaseline', 'CreatinineBaseline', 'eGFRBaseline','sBPBaseline', 'dBPBaseline', 'BMIBaseline', 'TimeToEventMonths']])"
   ]
  },
  {
   "cell_type": "code",
   "execution_count": 36,
   "id": "d29c066a-2812-4781-b0b5-aff1ee3443a2",
   "metadata": {},
   "outputs": [
    {
     "data": {
      "text/plain": [
       "Sex                    0.095953\n",
       "AgeBaseline            0.234616\n",
       "HistoryDiabetes        0.290294\n",
       "HistoryCHD             0.263532\n",
       "HistoryVascular        0.100355\n",
       "HistorySmoking         0.096994\n",
       "HistoryHTN             0.176038\n",
       "HistoryDLD             0.145270\n",
       "HistoryObesity         0.034791\n",
       "DLDmeds                0.168671\n",
       "DMmeds                 0.308959\n",
       "HTNmeds                0.163995\n",
       "ACEIARB                0.232300\n",
       "CholesterolBaseline   -0.142285\n",
       "CreatinineBaseline     0.299953\n",
       "eGFRBaseline          -0.359031\n",
       "sBPBaseline            0.122617\n",
       "dBPBaseline           -0.071144\n",
       "BMIBaseline           -0.009528\n",
       "TimeToEventMonths     -0.449169\n",
       "EventCKD35             1.000000\n",
       "TIME_YEAR             -0.447710\n",
       "Name: EventCKD35, dtype: float64"
      ]
     },
     "execution_count": 36,
     "metadata": {},
     "output_type": "execute_result"
    }
   ],
   "source": [
    "data.corr()[\"EventCKD35\"]"
   ]
  },
  {
   "cell_type": "code",
   "execution_count": 37,
   "id": "3e08cf29-7362-4131-a53d-2b5df0ab130d",
   "metadata": {},
   "outputs": [],
   "source": [
    "data.drop(columns=[\"Sex\",\"HistorySmoking\",\"HistoryObesity\",\"dBPBaseline\",\"BMIBaseline\"],axis=1,inplace=True)"
   ]
  },
  {
   "cell_type": "code",
   "execution_count": 38,
   "id": "f8475c68-2519-43d5-81ee-dc32c855a9bd",
   "metadata": {},
   "outputs": [],
   "source": [
    "X = data.drop('EventCKD35', axis=1)\n",
    "y = data['EventCKD35']"
   ]
  },
  {
   "cell_type": "code",
   "execution_count": 39,
   "id": "0cf08ce8-af3f-4243-8428-b399860d6617",
   "metadata": {},
   "outputs": [
    {
     "data": {
      "text/plain": [
       "0    435\n",
       "1     56\n",
       "Name: EventCKD35, dtype: int64"
      ]
     },
     "execution_count": 39,
     "metadata": {},
     "output_type": "execute_result"
    }
   ],
   "source": [
    "y.value_counts()"
   ]
  },
  {
   "cell_type": "code",
   "execution_count": 40,
   "id": "1f19a978-dc06-4451-9dbf-49cd28e3ebec",
   "metadata": {},
   "outputs": [],
   "source": [
    "from imblearn.over_sampling import RandomOverSampler\n",
    "over_sampler = RandomOverSampler(random_state=42)\n",
    "X, y = over_sampler.fit_resample(X, y)"
   ]
  },
  {
   "cell_type": "code",
   "execution_count": 41,
   "id": "f020970c-da67-4e85-ba43-d69565fe76e6",
   "metadata": {},
   "outputs": [
    {
     "data": {
      "text/plain": [
       "0    435\n",
       "1    435\n",
       "Name: EventCKD35, dtype: int64"
      ]
     },
     "execution_count": 41,
     "metadata": {},
     "output_type": "execute_result"
    }
   ],
   "source": [
    "y.value_counts()"
   ]
  },
  {
   "cell_type": "code",
   "execution_count": 42,
   "id": "f1286231-8a74-476a-b79f-c91e0601d8c9",
   "metadata": {},
   "outputs": [],
   "source": [
    "from sklearn.model_selection import train_test_split\n",
    "from xgboost import XGBClassifier\n",
    "from sklearn.metrics import confusion_matrix, precision_score, recall_score, f1_score"
   ]
  },
  {
   "cell_type": "code",
   "execution_count": null,
   "id": "d737f631-434b-48fe-8b99-246a93b64a01",
   "metadata": {},
   "outputs": [],
   "source": []
  },
  {
   "cell_type": "code",
   "execution_count": 43,
   "id": "d14ffe71-7c16-41e7-9ae0-424d9d6c5586",
   "metadata": {
    "scrolled": true
   },
   "outputs": [
    {
     "name": "stdout",
     "output_type": "stream",
     "text": [
      "0\n",
      "1\n",
      "2\n",
      "3\n",
      "4\n",
      "5\n",
      "6\n",
      "7\n",
      "8\n",
      "9\n",
      "10\n",
      "11\n",
      "12\n",
      "13\n",
      "14\n",
      "15\n",
      "16\n",
      "17\n",
      "18\n",
      "19\n",
      "20\n",
      "21\n",
      "22\n",
      "23\n",
      "24\n",
      "25\n",
      "26\n",
      "27\n",
      "28\n",
      "29\n",
      "30\n",
      "31\n",
      "32\n",
      "33\n",
      "34\n",
      "35\n",
      "36\n",
      "37\n",
      "38\n",
      "39\n",
      "40\n",
      "41\n",
      "42\n",
      "43\n",
      "44\n",
      "45\n",
      "46\n",
      "47\n",
      "48\n",
      "49\n",
      "50\n",
      "51\n",
      "52\n",
      "53\n",
      "54\n",
      "55\n",
      "56\n",
      "57\n",
      "58\n",
      "59\n",
      "60\n",
      "61\n",
      "62\n",
      "63\n",
      "64\n",
      "65\n",
      "66\n",
      "67\n",
      "68\n",
      "69\n",
      "70\n",
      "71\n",
      "72\n",
      "73\n",
      "74\n",
      "75\n",
      "76\n",
      "77\n",
      "78\n",
      "79\n",
      "80\n",
      "81\n",
      "82\n",
      "83\n",
      "84\n",
      "85\n",
      "86\n",
      "87\n",
      "88\n",
      "89\n",
      "90\n",
      "91\n",
      "92\n",
      "93\n",
      "94\n",
      "95\n",
      "96\n",
      "97\n",
      "98\n",
      "99\n",
      "100\n"
     ]
    }
   ],
   "source": [
    "acc_score = []\n",
    "seeds = range(0,101)\n",
    "\n",
    "for seed in seeds:\n",
    "    print(seed)\n",
    "    X_train, X_test, y_train, y_test = train_test_split(X, y, test_size=0.3, random_state=seed)\n",
    "    xgb = XGBClassifier(n_estimators=100,enable_categorical=True)\n",
    "    xgb.fit(X_train, y_train)\n",
    "    preds = xgb.predict(X_test)\n",
    "    acc_xgb = (preds == y_test).sum().astype(float) / len(preds)*100\n",
    "    acc_score.append(acc_xgb)"
   ]
  },
  {
   "cell_type": "code",
   "execution_count": null,
   "id": "49d5e717-9da3-4442-a27f-3f8876d5d197",
   "metadata": {
    "scrolled": true
   },
   "outputs": [],
   "source": []
  },
  {
   "cell_type": "code",
   "execution_count": 75,
   "id": "2e8ecadf-fa03-4d49-86ca-569b03842306",
   "metadata": {},
   "outputs": [],
   "source": [
    "X_train, X_test, y_train, y_test = train_test_split(X, y, test_size=0.3, random_state=15)\n",
    "xgb = XGBClassifier(n_estimators=100,enable_categorical=True)\n",
    "xgb.fit(X_train, y_train)\n",
    "preds = xgb.predict(X_test)\n",
    "acc_xgb = (preds == y_test).sum().astype(float) / len(preds)*100"
   ]
  },
  {
   "cell_type": "code",
   "execution_count": 76,
   "id": "7dee5e60-c7b6-4836-a5b7-0f26bcd9b0c6",
   "metadata": {},
   "outputs": [
    {
     "data": {
      "text/plain": [
       "98.46743295019157"
      ]
     },
     "execution_count": 76,
     "metadata": {},
     "output_type": "execute_result"
    }
   ],
   "source": [
    "acc_xgb"
   ]
  },
  {
   "cell_type": "code",
   "execution_count": 77,
   "id": "27b4e726-5c15-46a2-a6f0-912dd0d8d515",
   "metadata": {},
   "outputs": [
    {
     "name": "stdout",
     "output_type": "stream",
     "text": [
      "Accuracy: 0.9846743295019157\n",
      "Precision: 0.972027972027972\n",
      "Recall: 1.0\n",
      "F1 Score: 0.9858156028368794\n",
      "\n",
      "Classification Report:\n",
      "               precision    recall  f1-score   support\n",
      "\n",
      "           0       1.00      0.97      0.98       122\n",
      "           1       0.97      1.00      0.99       139\n",
      "\n",
      "    accuracy                           0.98       261\n",
      "   macro avg       0.99      0.98      0.98       261\n",
      "weighted avg       0.99      0.98      0.98       261\n",
      "\n",
      "Confusion Matrix:\n",
      " [[118   4]\n",
      " [  0 139]]\n"
     ]
    }
   ],
   "source": [
    "from sklearn.metrics import accuracy_score, precision_score, recall_score, f1_score, roc_auc_score, classification_report, confusion_matrix\n",
    "\n",
    "# Calculate accuracy\n",
    "accuracy = accuracy_score(y_test, preds)\n",
    "\n",
    "# Calculate precision, recall, F1-score, and AUC\n",
    "precision = precision_score(y_test, preds)\n",
    "recall = recall_score(y_test, preds)\n",
    "f1 = f1_score(y_test, preds)\n",
    "\n",
    "# Display classification report and confusion matrix\n",
    "class_report = classification_report(y_test, preds)\n",
    "conf_matrix = confusion_matrix(y_test, preds)\n",
    "\n",
    "print(\"Accuracy:\", accuracy)\n",
    "print(\"Precision:\", precision)\n",
    "print(\"Recall:\", recall)\n",
    "print(\"F1 Score:\", f1)\n",
    "print(\"\\nClassification Report:\\n\", class_report)\n",
    "print(\"Confusion Matrix:\\n\", conf_matrix)"
   ]
  },
  {
   "cell_type": "code",
   "execution_count": null,
   "id": "928e85e6-be82-46af-b032-903f929367cf",
   "metadata": {},
   "outputs": [],
   "source": []
  }
 ],
 "metadata": {
  "kernelspec": {
   "display_name": "Python 3 (ipykernel)",
   "language": "python",
   "name": "python3"
  },
  "language_info": {
   "codemirror_mode": {
    "name": "ipython",
    "version": 3
   },
   "file_extension": ".py",
   "mimetype": "text/x-python",
   "name": "python",
   "nbconvert_exporter": "python",
   "pygments_lexer": "ipython3",
   "version": "3.11.8"
  }
 },
 "nbformat": 4,
 "nbformat_minor": 5
}
