{
 "cells": [
  {
   "cell_type": "code",
   "execution_count": 27,
   "id": "7e4d04db-f4a0-42e4-b30f-a3e36003ea74",
   "metadata": {},
   "outputs": [],
   "source": [
    "import pandas as pd\n",
    "import numpy as np\n",
    "import matplotlib.pyplot as plt"
   ]
  },
  {
   "cell_type": "code",
   "execution_count": 28,
   "id": "334a0bb0-b9f5-4fd8-83cc-18483badf959",
   "metadata": {},
   "outputs": [],
   "source": [
    "data = pd.read_csv(\"Smoker_Epigenetic_df.csv\")"
   ]
  },
  {
   "cell_type": "code",
   "execution_count": 29,
   "id": "27714a81-5716-4877-9200-125468acc4c0",
   "metadata": {},
   "outputs": [],
   "source": [
    "data = data.drop('GSM', axis=1)"
   ]
  },
  {
   "cell_type": "code",
   "execution_count": 30,
   "id": "4c92d1a1-c04a-4a84-8f87-d2e2b2d890cc",
   "metadata": {},
   "outputs": [],
   "source": [
    "data = data.dropna(axis=0)"
   ]
  },
  {
   "cell_type": "code",
   "execution_count": 31,
   "id": "727330b7-8932-42e4-b429-462df1e45ec6",
   "metadata": {},
   "outputs": [],
   "source": [
    "from sklearn.preprocessing import LabelEncoder\n",
    "label_encoder = LabelEncoder()\n",
    "\n",
    "# Apply Label Encoding to each categorical column\n",
    "for column in [\"Gender\",\"Smoking Status\"]:\n",
    "    data[column] = label_encoder.fit_transform(data[column])"
   ]
  },
  {
   "cell_type": "code",
   "execution_count": null,
   "id": "b239d86c-3491-4cbe-88bb-02f5b377f2eb",
   "metadata": {},
   "outputs": [],
   "source": []
  },
  {
   "cell_type": "code",
   "execution_count": 32,
   "id": "dd90108e-f79a-4bef-a06a-946b55fc3d0b",
   "metadata": {},
   "outputs": [
    {
     "data": {
      "text/plain": [
       "0    428\n",
       "1    193\n",
       "Name: Smoking Status, dtype: int64"
      ]
     },
     "execution_count": 32,
     "metadata": {},
     "output_type": "execute_result"
    }
   ],
   "source": [
    "data[\"Smoking Status\"].value_counts()"
   ]
  },
  {
   "cell_type": "code",
   "execution_count": 33,
   "id": "9c7cc1cb-5b9b-476d-8307-564deb67f50a",
   "metadata": {},
   "outputs": [
    {
     "data": {
      "text/plain": [
       "Smoking Status    1.000000\n",
       "Gender           -0.093813\n",
       "Age              -0.112701\n",
       "cg00050873       -0.094152\n",
       "cg00212031        0.075784\n",
       "cg00213748       -0.086355\n",
       "cg00214611        0.080138\n",
       "cg00455876       -0.056613\n",
       "cg01707559        0.043290\n",
       "cg02004872        0.088749\n",
       "cg02011394       -0.105648\n",
       "cg02050847       -0.084765\n",
       "cg02233190        0.106283\n",
       "cg02494853        0.030415\n",
       "cg02839557        0.086673\n",
       "cg02842889        0.107668\n",
       "cg03052502       -0.094867\n",
       "cg03155755       -0.092161\n",
       "cg03244189        0.075141\n",
       "cg03443143       -0.088693\n",
       "cg03683899        0.080832\n",
       "cg03695421       -0.107407\n",
       "cg03706273        0.030927\n",
       "Name: Smoking Status, dtype: float64"
      ]
     },
     "execution_count": 33,
     "metadata": {},
     "output_type": "execute_result"
    }
   ],
   "source": [
    "data.corr()[\"Smoking Status\"]"
   ]
  },
  {
   "cell_type": "code",
   "execution_count": null,
   "id": "98b22f19-653c-4cdb-88b1-f20b44b4bd1a",
   "metadata": {},
   "outputs": [],
   "source": []
  },
  {
   "cell_type": "code",
   "execution_count": 34,
   "id": "733ef2dc-3eb3-4a4d-93f6-6b5fdbe57c21",
   "metadata": {},
   "outputs": [],
   "source": [
    "from sklearn.model_selection import train_test_split\n",
    "from xgboost import XGBClassifier\n",
    "from sklearn.metrics import confusion_matrix, precision_score, recall_score, f1_score"
   ]
  },
  {
   "cell_type": "code",
   "execution_count": 35,
   "id": "7b21b1a9-6845-4022-9347-d5be3bacc2c1",
   "metadata": {},
   "outputs": [],
   "source": [
    "X = data.drop('Smoking Status', axis=1)\n",
    "y = data['Smoking Status']"
   ]
  },
  {
   "cell_type": "code",
   "execution_count": 36,
   "id": "45c4ec0d-b507-444b-af02-78b95e8f6256",
   "metadata": {},
   "outputs": [],
   "source": [
    "from imblearn.over_sampling import RandomOverSampler\n",
    "over_sampler = RandomOverSampler(random_state=42)\n",
    "X, y = over_sampler.fit_resample(X, y)"
   ]
  },
  {
   "cell_type": "code",
   "execution_count": null,
   "id": "ff17b7d1-3a89-4c37-abfb-f94a98a1fd7c",
   "metadata": {},
   "outputs": [],
   "source": []
  },
  {
   "cell_type": "code",
   "execution_count": null,
   "id": "6ccf94d5-2388-4a8b-a726-aa327161f8b4",
   "metadata": {},
   "outputs": [],
   "source": []
  },
  {
   "cell_type": "code",
   "execution_count": 37,
   "id": "1fd726c5-26f7-4f45-a1b5-64c7fe8b0143",
   "metadata": {},
   "outputs": [],
   "source": [
    "from sklearn.decomposition import PCA"
   ]
  },
  {
   "cell_type": "code",
   "execution_count": 38,
   "id": "dca16271-8ded-4877-9c36-699ebe432c70",
   "metadata": {},
   "outputs": [],
   "source": [
    "pca = PCA(n_components=5)\n",
    "pca.fit(X)\n",
    "xpca = pca.transform(X)\n",
    "Xpca = pca.inverse_transform(xpca)\n",
    "X=Xpca"
   ]
  },
  {
   "cell_type": "code",
   "execution_count": null,
   "id": "3539a1d3-4ddb-415b-8819-2c06a291d57e",
   "metadata": {},
   "outputs": [],
   "source": []
  },
  {
   "cell_type": "code",
   "execution_count": null,
   "id": "23eee163-0a09-45d5-99bc-1bbb50da6599",
   "metadata": {},
   "outputs": [],
   "source": []
  },
  {
   "cell_type": "code",
   "execution_count": 39,
   "id": "290666ff-0713-44ea-b2af-5028c7037f75",
   "metadata": {
    "scrolled": true
   },
   "outputs": [
    {
     "name": "stdout",
     "output_type": "stream",
     "text": [
      "0\n",
      "1\n",
      "2\n",
      "3\n",
      "4\n",
      "5\n",
      "6\n",
      "7\n",
      "8\n",
      "9\n",
      "10\n",
      "11\n",
      "12\n",
      "13\n",
      "14\n",
      "15\n",
      "16\n",
      "17\n",
      "18\n",
      "19\n",
      "20\n",
      "21\n",
      "22\n",
      "23\n",
      "24\n",
      "25\n",
      "26\n",
      "27\n",
      "28\n",
      "29\n",
      "30\n",
      "31\n",
      "32\n",
      "33\n",
      "34\n",
      "35\n",
      "36\n",
      "37\n",
      "38\n",
      "39\n",
      "40\n",
      "41\n",
      "42\n",
      "43\n",
      "44\n",
      "45\n",
      "46\n",
      "47\n",
      "48\n",
      "49\n",
      "50\n",
      "51\n",
      "52\n",
      "53\n",
      "54\n",
      "55\n",
      "56\n",
      "57\n",
      "58\n",
      "59\n",
      "60\n",
      "61\n",
      "62\n",
      "63\n",
      "64\n",
      "65\n",
      "66\n",
      "67\n",
      "68\n",
      "69\n",
      "70\n",
      "71\n",
      "72\n",
      "73\n",
      "74\n",
      "75\n",
      "76\n",
      "77\n",
      "78\n",
      "79\n",
      "80\n",
      "81\n",
      "82\n",
      "83\n",
      "84\n",
      "85\n",
      "86\n",
      "87\n",
      "88\n",
      "89\n",
      "90\n",
      "91\n",
      "92\n",
      "93\n",
      "94\n",
      "95\n",
      "96\n",
      "97\n",
      "98\n",
      "99\n",
      "100\n"
     ]
    }
   ],
   "source": [
    "acc_score = []\n",
    "seeds = range(0,101)\n",
    "\n",
    "for seed in seeds:\n",
    "    print(seed)\n",
    "    X_train, X_test, y_train, y_test = train_test_split(X, y, test_size=0.3, random_state=seed)\n",
    "    xgb = XGBClassifier(n_estimators=100,enable_categorical=True)\n",
    "    xgb.fit(X_train, y_train)\n",
    "    preds = xgb.predict(X_test)\n",
    "    acc_xgb = (preds == y_test).sum().astype(float) / len(preds)*100\n",
    "    acc_score.append(acc_xgb)"
   ]
  },
  {
   "cell_type": "code",
   "execution_count": 40,
   "id": "160ba46f-374a-4d67-af2e-863c5ad20648",
   "metadata": {},
   "outputs": [],
   "source": [
    "X_train, X_test, y_train, y_test = train_test_split(X, y, test_size=0.3, random_state=acc_score.index(max(acc_score)))\n",
    "xgb = XGBClassifier(n_estimators=100,enable_categorical=True)\n",
    "xgb.fit(X_train, y_train)\n",
    "preds = xgb.predict(X_test)\n",
    "acc_xgb = (preds == y_test).sum().astype(float) / len(preds)*100"
   ]
  },
  {
   "cell_type": "code",
   "execution_count": 41,
   "id": "06cd1f45-55d6-4029-84cb-58d2c5823f0e",
   "metadata": {},
   "outputs": [
    {
     "data": {
      "text/plain": [
       "83.65758754863813"
      ]
     },
     "execution_count": 41,
     "metadata": {},
     "output_type": "execute_result"
    }
   ],
   "source": [
    "acc_xgb"
   ]
  },
  {
   "cell_type": "code",
   "execution_count": 42,
   "id": "d6427566-a38f-49d2-861e-6d173b8f8242",
   "metadata": {},
   "outputs": [
    {
     "name": "stdout",
     "output_type": "stream",
     "text": [
      "Accuracy: 0.8365758754863813\n",
      "Precision: 0.8382352941176471\n",
      "Recall: 0.8507462686567164\n",
      "F1 Score: 0.8444444444444444\n",
      "\n",
      "Classification Report:\n",
      "               precision    recall  f1-score   support\n",
      "\n",
      "           0       0.83      0.82      0.83       123\n",
      "           1       0.84      0.85      0.84       134\n",
      "\n",
      "    accuracy                           0.84       257\n",
      "   macro avg       0.84      0.84      0.84       257\n",
      "weighted avg       0.84      0.84      0.84       257\n",
      "\n",
      "Confusion Matrix:\n",
      " [[101  22]\n",
      " [ 20 114]]\n"
     ]
    }
   ],
   "source": [
    "from sklearn.metrics import accuracy_score, precision_score, recall_score, f1_score, roc_auc_score, classification_report, confusion_matrix\n",
    "\n",
    "# Calculate accuracy\n",
    "accuracy = accuracy_score(y_test, preds)\n",
    "\n",
    "# Calculate precision, recall, F1-score, and AUC\n",
    "precision = precision_score(y_test, preds)\n",
    "recall = recall_score(y_test, preds)\n",
    "f1 = f1_score(y_test, preds)\n",
    "\n",
    "# Display classification report and confusion matrix\n",
    "class_report = classification_report(y_test, preds)\n",
    "conf_matrix = confusion_matrix(y_test, preds)\n",
    "\n",
    "print(\"Accuracy:\", accuracy)\n",
    "print(\"Precision:\", precision)\n",
    "print(\"Recall:\", recall)\n",
    "print(\"F1 Score:\", f1)\n",
    "print(\"\\nClassification Report:\\n\", class_report)\n",
    "print(\"Confusion Matrix:\\n\", conf_matrix)"
   ]
  },
  {
   "cell_type": "code",
   "execution_count": null,
   "id": "4d1b38f2-4fa1-4d83-9331-adb5bf01be2f",
   "metadata": {},
   "outputs": [],
   "source": []
  },
  {
   "cell_type": "code",
   "execution_count": null,
   "id": "8ea76219-7da1-40ee-a275-cf9856252345",
   "metadata": {},
   "outputs": [],
   "source": []
  }
 ],
 "metadata": {
  "kernelspec": {
   "display_name": "Python 3 (ipykernel)",
   "language": "python",
   "name": "python3"
  },
  "language_info": {
   "codemirror_mode": {
    "name": "ipython",
    "version": 3
   },
   "file_extension": ".py",
   "mimetype": "text/x-python",
   "name": "python",
   "nbconvert_exporter": "python",
   "pygments_lexer": "ipython3",
   "version": "3.11.8"
  }
 },
 "nbformat": 4,
 "nbformat_minor": 5
}
