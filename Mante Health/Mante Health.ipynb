{
 "cells": [
  {
   "cell_type": "code",
   "execution_count": 16,
   "id": "90608177-f375-47cb-91dd-ad7f310967ed",
   "metadata": {},
   "outputs": [],
   "source": [
    "import pandas as pd\n",
    "import numpy as np\n",
    "import matplotlib.pyplot as plt\n",
    "from sklearn.preprocessing import LabelEncoder\n",
    "from sklearn.model_selection import train_test_split\n",
    "from xgboost import XGBClassifier\n",
    "from sklearn.metrics import confusion_matrix, precision_score, recall_score, f1_score, accuracy_score, roc_auc_score, classification_report\n",
    "from sklearn.decomposition import PCA"
   ]
  },
  {
   "cell_type": "code",
   "execution_count": 2,
   "id": "4ff9c9e5-6edf-4a86-8afb-cf2fcd3d06c9",
   "metadata": {},
   "outputs": [],
   "source": [
    "data = pd.read_csv(\"train.csv\")"
   ]
  },
  {
   "cell_type": "code",
   "execution_count": 3,
   "id": "3f378178-37a3-40bf-ac15-727bd30b3f5f",
   "metadata": {},
   "outputs": [],
   "source": [
    "data = data.drop('id', axis=1)\n",
    "data = data.drop('Name', axis=1)\n",
    "data = data.drop('City', axis=1)"
   ]
  },
  {
   "cell_type": "code",
   "execution_count": 4,
   "id": "a63cd48c-72b7-4787-97cf-f4b126f8a2cf",
   "metadata": {},
   "outputs": [],
   "source": [
    "col = [\"Gender\",\"Working Professional or Student\",\"Profession\",\"Sleep Duration\",\"Dietary Habits\",\"Degree\",\"Have you ever had suicidal thoughts ?\",\"Family History of Mental Illness\"]"
   ]
  },
  {
   "cell_type": "code",
   "execution_count": 5,
   "id": "fd00d0ed-2300-41d5-ada0-0cb23087bd5f",
   "metadata": {},
   "outputs": [],
   "source": [
    "label_encoder = LabelEncoder()\n",
    "for column in col:\n",
    "    data[column] = label_encoder.fit_transform(data[column])"
   ]
  },
  {
   "cell_type": "code",
   "execution_count": 6,
   "id": "5cf69ada-9cd1-48cf-bce4-af5b6da9d44c",
   "metadata": {},
   "outputs": [
    {
     "data": {
      "text/plain": [
       "Gender                                   0.008144\n",
       "Age                                     -0.564671\n",
       "Working Professional or Student         -0.520790\n",
       "Profession                               0.353820\n",
       "Academic Pressure                        0.475037\n",
       "Work Pressure                            0.216634\n",
       "CGPA                                     0.021729\n",
       "Study Satisfaction                      -0.168014\n",
       "Job Satisfaction                        -0.168543\n",
       "Sleep Duration                           0.014454\n",
       "Dietary Habits                           0.143445\n",
       "Degree                                  -0.045514\n",
       "Have you ever had suicidal thoughts ?    0.349066\n",
       "Work/Study Hours                         0.191746\n",
       "Financial Stress                         0.227237\n",
       "Family History of Mental Illness         0.016502\n",
       "Depression                               1.000000\n",
       "Name: Depression, dtype: float64"
      ]
     },
     "execution_count": 6,
     "metadata": {},
     "output_type": "execute_result"
    }
   ],
   "source": [
    "data.corr()[\"Depression\"]"
   ]
  },
  {
   "cell_type": "code",
   "execution_count": 7,
   "id": "aa23dac6-994a-406c-960d-60ce342577b6",
   "metadata": {},
   "outputs": [],
   "source": [
    "data.drop(columns=[\"CGPA\",\"Gender\",\"Sleep Duration\",\"Degree\",\"Family History of Mental Illness\"],axis=1,inplace=True)"
   ]
  },
  {
   "cell_type": "code",
   "execution_count": null,
   "id": "62ee3ffa-084b-4a8d-ae29-05f1c217375d",
   "metadata": {},
   "outputs": [],
   "source": []
  },
  {
   "cell_type": "code",
   "execution_count": 10,
   "id": "791b396e-23d6-4a32-b922-0e742ee1ad9c",
   "metadata": {},
   "outputs": [],
   "source": [
    "X = data.drop('Depression', axis=1)\n",
    "y = data['Depression']"
   ]
  },
  {
   "cell_type": "code",
   "execution_count": 15,
   "id": "a2b11ac0-33f0-4469-a8c5-31134c199c8e",
   "metadata": {},
   "outputs": [
    {
     "name": "stdout",
     "output_type": "stream",
     "text": [
      "Accuracy: 0.9384979862591802\n",
      "Precision: 0.8370410077727151\n",
      "Recall: 0.8190401258851299\n",
      "F1 Score: 0.8279427359490986\n",
      "\n",
      "Classification Report:\n",
      "               precision    recall  f1-score   support\n",
      "\n",
      "           0       0.96      0.96      0.96     34584\n",
      "           1       0.84      0.82      0.83      7626\n",
      "\n",
      "    accuracy                           0.94     42210\n",
      "   macro avg       0.90      0.89      0.90     42210\n",
      "weighted avg       0.94      0.94      0.94     42210\n",
      "\n",
      "Confusion Matrix:\n",
      " [[33368  1216]\n",
      " [ 1380  6246]]\n"
     ]
    }
   ],
   "source": [
    "X_train, X_test, y_train, y_test = train_test_split(X, y, test_size=0.3, random_state=88)\n",
    "xgb = XGBClassifier(n_estimators=100,enable_categorical=True)\n",
    "xgb.fit(X_train, y_train)\n",
    "\n",
    "preds = xgb.predict(X_test)\n",
    "acc_xgb = (preds == y_test).sum().astype(float) / len(preds)*100\n",
    "\n",
    "accuracy = accuracy_score(y_test, preds)\n",
    "precision = precision_score(y_test, preds)\n",
    "recall = recall_score(y_test, preds)\n",
    "f1 = f1_score(y_test, preds)\n",
    "class_report = classification_report(y_test, preds)\n",
    "conf_matrix = confusion_matrix(y_test, preds)\n",
    "\n",
    "print(\"Accuracy:\", accuracy)\n",
    "print(\"Precision:\", precision)\n",
    "print(\"Recall:\", recall)\n",
    "print(\"F1 Score:\", f1)\n",
    "print(\"\\nClassification Report:\\n\", class_report)\n",
    "print(\"Confusion Matrix:\\n\", conf_matrix)"
   ]
  },
  {
   "cell_type": "code",
   "execution_count": null,
   "id": "44d88dc3-184f-4230-8ca6-ab722ad36658",
   "metadata": {},
   "outputs": [],
   "source": []
  },
  {
   "cell_type": "code",
   "execution_count": null,
   "id": "05bf85e9-98d7-49f7-b2f8-da57637fabbd",
   "metadata": {},
   "outputs": [],
   "source": []
  }
 ],
 "metadata": {
  "kernelspec": {
   "display_name": "Python 3 (ipykernel)",
   "language": "python",
   "name": "python3"
  },
  "language_info": {
   "codemirror_mode": {
    "name": "ipython",
    "version": 3
   },
   "file_extension": ".py",
   "mimetype": "text/x-python",
   "name": "python",
   "nbconvert_exporter": "python",
   "pygments_lexer": "ipython3",
   "version": "3.11.8"
  }
 },
 "nbformat": 4,
 "nbformat_minor": 5
}
