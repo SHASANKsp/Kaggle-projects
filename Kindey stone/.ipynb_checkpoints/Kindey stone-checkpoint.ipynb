{
 "cells": [
  {
   "cell_type": "markdown",
   "id": "6fd04641-480b-4e81-9aaf-48fa00e8e796",
   "metadata": {},
   "source": [
    "# Kidney Stone Prediction based on Urine Analysis\n",
    "(https://link.springer.com/chapter/10.1007/978-1-4612-5098-2_45)"
   ]
  },
  {
   "cell_type": "markdown",
   "id": "9243e700-9e96-4306-8eb2-242dbabe3be5",
   "metadata": {},
   "source": [
    "The 79 urine specimens, were analyzed in an effort to determine if certain physical characteristics of the urine might be related to the formation of calcium oxalate crystals.  \n",
    "The six physical characteristics of the urine are:   \n",
    "(1) specific gravity, the density of the urine relative to water;   \n",
    "(2) pH, the negative logarithm of the hydrogen ion;   \n",
    "(3) osmolarity (mOsm), a unit used in biology and medicine but not in physical chemistry. Osmolarity is proportional to the concentration of molecules in solution;   \n",
    "(4) conductivity (mMho milliMho). One Mho is one reciprocal Ohm. Conductivity is proportional to the concentration of charged ions in solution;   \n",
    "(5) urea concentration in millimoles per litre; and   \n",
    "(6) calcium concentration (CALC) in millimolesllitre."
   ]
  },
  {
   "cell_type": "code",
   "execution_count": null,
   "id": "d9fee2a3-1b60-403d-9e89-4bcc83e4bdcf",
   "metadata": {},
   "outputs": [],
   "source": []
  },
  {
   "cell_type": "code",
   "execution_count": 52,
   "id": "1fa0f5ee-a05f-40b5-9938-b7e3591be45a",
   "metadata": {},
   "outputs": [],
   "source": [
    "import pandas as pd\n",
    "import numpy as np\n",
    "import matplotlib.pyplot as plt\n",
    "import seaborn as sns\n",
    "from sklearn.preprocessing import MinMaxScaler\n",
    "from sklearn import preprocessing, svm \n",
    "from xgboost import XGBClassifier\n",
    "from sklearn.model_selection import train_test_split, cross_val_score\n",
    "from sklearn.linear_model import LogisticRegression\n",
    "from sklearn.metrics import accuracy_score, precision_score, recall_score, f1_score, roc_auc_score, classification_report, confusion_matrix\n",
    "import optuna"
   ]
  },
  {
   "cell_type": "code",
   "execution_count": 3,
   "id": "311ff934-137a-4837-a29f-ff244066f439",
   "metadata": {},
   "outputs": [],
   "source": [
    "data = pd.read_csv(\"kindey stone urine analysis.csv\")"
   ]
  },
  {
   "cell_type": "code",
   "execution_count": 16,
   "id": "ef50867b-6b10-42b0-965c-d31897cc51e4",
   "metadata": {},
   "outputs": [
    {
     "data": {
      "text/plain": [
       "<Axes: >"
      ]
     },
     "execution_count": 16,
     "metadata": {},
     "output_type": "execute_result"
    },
    {
     "data": {
      "image/png": "[encoded data removed]",
      "text/plain": [
       "<Figure size 640x480 with 2 Axes>"
      ]
     },
     "metadata": {},
     "output_type": "display_data"
    }
   ],
   "source": [
    "sns.heatmap(data.corr())"
   ]
  },
  {
   "cell_type": "code",
   "execution_count": 17,
   "id": "47bafe25-0af6-4803-b344-76752032ccb6",
   "metadata": {},
   "outputs": [
    {
     "data": {
      "text/plain": [
       "gravity    0.419818\n",
       "ph        -0.112191\n",
       "osmo       0.231834\n",
       "cond       0.059717\n",
       "urea       0.258402\n",
       "calc       0.537728\n",
       "target     1.000000\n",
       "Name: target, dtype: float64"
      ]
     },
     "execution_count": 17,
     "metadata": {},
     "output_type": "execute_result"
    }
   ],
   "source": [
    "data.corr()[\"target\"]"
   ]
  },
  {
   "cell_type": "code",
   "execution_count": null,
   "id": "3830e042-b24c-467e-b45d-8a481a01531a",
   "metadata": {},
   "outputs": [],
   "source": []
  },
  {
   "cell_type": "code",
   "execution_count": 82,
   "id": "9a1b64b4-eb2a-4ba9-8718-3fea5b09fe03",
   "metadata": {},
   "outputs": [],
   "source": [
    "X = data[[\"gravity\",\"osmo\",\"urea\",\"calc\"]] #keeping features above 0.2 corelation\n",
    "y = data[\"target\"]"
   ]
  },
  {
   "cell_type": "code",
   "execution_count": 74,
   "id": "b5cedf17-a6f9-4851-a1b6-88cf6bdd4e83",
   "metadata": {},
   "outputs": [],
   "source": [
    "scaler = MinMaxScaler()\n",
    "X = pd.DataFrame(scaler.fit_transform(X), columns= [\"gravity\",\"osmo\",\"urea\",\"calc\"])"
   ]
  },
  {
   "cell_type": "code",
   "execution_count": null,
   "id": "57fe4678-4b0e-490a-bc28-29eba30646a0",
   "metadata": {},
   "outputs": [],
   "source": []
  },
  {
   "cell_type": "markdown",
   "id": "002caf67-0a28-4e51-9790-d951fe4ed638",
   "metadata": {},
   "source": [
    "#### Logistic regression"
   ]
  },
  {
   "cell_type": "code",
   "execution_count": 87,
   "id": "29533af6-c54b-4228-b5da-2e67a8aa008e",
   "metadata": {},
   "outputs": [
    {
     "name": "stdout",
     "output_type": "stream",
     "text": [
      "Accuracy: 0.875\n",
      "Precision: 1.0\n",
      "Recall: 0.6666666666666666\n",
      "F1 Score: 0.8\n",
      "AUC Score: 0.874074074074074\n",
      "\n",
      "Classification Report:\n",
      "               precision    recall  f1-score   support\n",
      "\n",
      "           0       0.83      1.00      0.91        15\n",
      "           1       1.00      0.67      0.80         9\n",
      "\n",
      "    accuracy                           0.88        24\n",
      "   macro avg       0.92      0.83      0.85        24\n",
      "weighted avg       0.90      0.88      0.87        24\n",
      "\n",
      "Confusion Matrix:\n",
      " [[15  0]\n",
      " [ 3  6]]\n"
     ]
    }
   ],
   "source": [
    "X_train, X_test, y_train, y_test = train_test_split(X, y, test_size = 0.3,random_state=24) \n",
    "\n",
    "log_reg = LogisticRegression() \n",
    "log_reg.fit(X_train, y_train)\n",
    "\n",
    "y_pred = log_reg.predict(X_test)\n",
    "y_pred_prob = log_reg.predict_proba(X_test)[:, 1] \n",
    "\n",
    "accuracy = accuracy_score(y_test, y_pred)\n",
    "precision = precision_score(y_test, y_pred)\n",
    "recall = recall_score(y_test, y_pred)\n",
    "f1 = f1_score(y_test, y_pred)\n",
    "auc = roc_auc_score(y_test, y_pred_prob)\n",
    "class_report = classification_report(y_test, y_pred)\n",
    "conf_matrix = confusion_matrix(y_test, y_pred)\n",
    "\n",
    "print(\"Accuracy:\", accuracy)\n",
    "print(\"Precision:\", precision)\n",
    "print(\"Recall:\", recall)\n",
    "print(\"F1 Score:\", f1)\n",
    "print(\"AUC Score:\", auc)\n",
    "print(\"\\nClassification Report:\\n\", class_report)\n",
    "print(\"Confusion Matrix:\\n\", conf_matrix)"
   ]
  },
  {
   "cell_type": "code",
   "execution_count": null,
   "id": "4a5a1248-35b7-4494-a2e0-7eb651d571f6",
   "metadata": {},
   "outputs": [],
   "source": []
  },
  {
   "cell_type": "code",
   "execution_count": null,
   "id": "e3c766fd-a648-49af-a877-636a8f2e4d55",
   "metadata": {},
   "outputs": [],
   "source": []
  },
  {
   "cell_type": "markdown",
   "id": "7792d1c3-2f33-498d-9918-62f7b00a8382",
   "metadata": {},
   "source": [
    "#### xgboost"
   ]
  },
  {
   "cell_type": "code",
   "execution_count": 86,
   "id": "fa899a27-1214-4b45-8236-7083fe53ef7e",
   "metadata": {},
   "outputs": [
    {
     "name": "stdout",
     "output_type": "stream",
     "text": [
      "Accuracy: 0.9583333333333334\n",
      "Precision: 0.9\n",
      "Recall: 1.0\n",
      "F1 Score: 0.9473684210526315\n",
      "\n",
      "Classification Report:\n",
      "               precision    recall  f1-score   support\n",
      "\n",
      "           0       1.00      0.93      0.97        15\n",
      "           1       0.90      1.00      0.95         9\n",
      "\n",
      "    accuracy                           0.96        24\n",
      "   macro avg       0.95      0.97      0.96        24\n",
      "weighted avg       0.96      0.96      0.96        24\n",
      "\n",
      "Confusion Matrix:\n",
      " [[14  1]\n",
      " [ 0  9]]\n"
     ]
    }
   ],
   "source": [
    "X_train, X_test, y_train, y_test = train_test_split(X, y, test_size=0.3, random_state=24)\n",
    "xgb = XGBClassifier(enable_categorical=True)\n",
    "xgb.fit(X_train, y_train)\n",
    "preds = xgb.predict(X_test)\n",
    "acc_xgb = (preds == y_test).sum().astype(float) / len(preds)*100\n",
    "\n",
    "accuracy = accuracy_score(y_test, preds)\n",
    "precision = precision_score(y_test, preds)\n",
    "recall = recall_score(y_test, preds)\n",
    "f1 = f1_score(y_test, preds)\n",
    "class_report = classification_report(y_test, preds)\n",
    "conf_matrix = confusion_matrix(y_test, preds)\n",
    "\n",
    "print(\"Accuracy:\", accuracy)\n",
    "print(\"Precision:\", precision)\n",
    "print(\"Recall:\", recall)\n",
    "print(\"F1 Score:\", f1)\n",
    "print(\"\\nClassification Report:\\n\", class_report)\n",
    "print(\"Confusion Matrix:\\n\", conf_matrix)"
   ]
  },
  {
   "cell_type": "code",
   "execution_count": null,
   "id": "c8084111-e57f-4413-ba31-619d566c5345",
   "metadata": {},
   "outputs": [],
   "source": []
  },
  {
   "cell_type": "code",
   "execution_count": 78,
   "id": "c785235d-4aba-4f39-86f1-627d67dff61e",
   "metadata": {},
   "outputs": [
    {
     "data": {
      "text/plain": [
       "<BarContainer object of 4 artists>"
      ]
     },
     "execution_count": 78,
     "metadata": {},
     "output_type": "execute_result"
    },
    {
     "data": {
      "image/png": "[encoded data removed]",
      "text/plain": [
       "<Figure size 640x480 with 1 Axes>"
      ]
     },
     "metadata": {},
     "output_type": "display_data"
    }
   ],
   "source": [
    "idx = xgb.feature_importances_.argsort()\n",
    "plt.barh(X_train.columns[idx],xgb.feature_importances_[idx])"
   ]
  },
  {
   "cell_type": "code",
   "execution_count": null,
   "id": "57b35e7c-eddd-4419-ac16-91ad491d6c14",
   "metadata": {},
   "outputs": [],
   "source": []
  }
 ],
 "metadata": {
  "kernelspec": {
   "display_name": "Python 3 (ipykernel)",
   "language": "python",
   "name": "python3"
  },
  "language_info": {
   "codemirror_mode": {
    "name": "ipython",
    "version": 3
   },
   "file_extension": ".py",
   "mimetype": "text/x-python",
   "name": "python",
   "nbconvert_exporter": "python",
   "pygments_lexer": "ipython3",
   "version": "3.11.8"
  }
 },
 "nbformat": 4,
 "nbformat_minor": 5
}
